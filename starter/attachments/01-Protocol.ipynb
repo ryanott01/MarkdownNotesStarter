{
 "cells": [
  {
   "cell_type": "markdown",
   "metadata": {},
   "source": [
    "<div style=\"position: relative;\">\n",
    "<img src=\"https://user-images.githubusercontent.com/7065401/98728503-5ab82f80-2378-11eb-9c79-adeb308fc647.png\"></img>\n",
    "\n",
    "<h1 style=\"color: white; position: absolute; top:27%; left:10%;\">\n",
    "    Introduction to HTTP using Python\n",
    "</h1>\n",
    "\n",
    "<h3 style=\"color: #ef7d22; font-weight: normal; position: absolute; top:56%; left:10%;\">\n",
    "    David Mertz, Ph.D.\n",
    "</h3>\n",
    "\n",
    "<h3 style=\"color: #ef7d22; font-weight: normal; position: absolute; top:63%; left:10%;\">\n",
    "    Data Scientist\n",
    "</h3>\n",
    "</div>"
   ]
  },
  {
   "cell_type": "markdown",
   "metadata": {},
   "source": [
    "## HTTP Protocol\n",
    "![orange-divider](https://user-images.githubusercontent.com/7065401/98619088-44ab6000-22e1-11eb-8f6d-5532e68ab274.png)\n",
    "\n",
    "Everyone who is taking this class uses the HTTP protocol hundreds of times a day.  Web browsers, and the servers the connect to, are an obvious example. But many dedicated applications, whether on desktop computers, servers, cluster nodes, or mobile devices, also use the HTTP protocol."
   ]
  },
  {
   "cell_type": "markdown",
   "metadata": {},
   "source": [
    "Understanding the underlying protocol is important to developing automated consumers of \"web\" content, as well as to writing servers.  Even simply when using web browsers or more specialized applications, an understanding of HTTP is useful to have a conceptual model of security and network issues that underlay its use."
   ]
  },
  {
   "cell_type": "markdown",
   "metadata": {},
   "source": [
    "HTTP is an \"application-layer\" protocol, in contrast to TCP and IP which are \"transport-layer\" and \"internet-layer\" protocols, respectively.  HTTP is almost always transmitted over TCP/IP, but can technically operate over different lower-level layers."
   ]
  },
  {
   "cell_type": "markdown",
   "metadata": {},
   "source": [
    "## Protocol components\n",
    "![orange-divider](https://user-images.githubusercontent.com/7065401/98619088-44ab6000-22e1-11eb-8f6d-5532e68ab274.png)\n",
    "\n",
    "1. A client establishes a TCP/IP **connection** to a server (the transport layer is outside the specific scope of this course)\n",
    "2. An HTTP **session** is a sequence of *request* and *response* messages, the former from client to server, the latter in reply to each, from server to client.\n",
    "3. Each message consists of a **header** and a (optional) **body**, separated by a blank line.  Within each header and the blank line, lines are separated by CRLF (U+000D U+000A).\n",
    "   * A request header consists of a request line followed by zero or more header fields\n",
    "   * A response header consists of a status line followed by zero or more header fields\n",
    "   * Headers only allow 7-bit ASCII characters within them\n",
    "4. A body, if present, may be any binary data.  The `Content-Length` header field will indicate how many bytes to expect.  Often the `Content-Type` header field will provide a hint about how to interpret those bytes."
   ]
  },
  {
   "cell_type": "markdown",
   "metadata": {},
   "source": [
    "A number of topics that are presented only passingly in this course are addressed in more depth in the INE course *Secure RESTful APIs using Python*.  Some of these include more details of HTTP headers, status codes, the HTTPS protocol and SSL/TLS encryption, and choosing and working with different content types.\n",
    "\n",
    "It's worth briefly summarizing the most common status codes.  200 indicates success and carries the status line message \"OK\".  404 is \"Not Found\", 403 is \"Forbidden\", other 4xx codes indicate various flaws in the client request.  The 5xx messages indicate a problem on the server, most commonly 500 for \"Internal Server Error\".  The 3xx messages, but especially 301 \"Moved Permanently\" tell a client that it needs to take additional actions to obtain a resource."
   ]
  },
  {
   "cell_type": "markdown",
   "metadata": {},
   "source": [
    "## Sample sessions\n",
    "![orange-divider](https://user-images.githubusercontent.com/7065401/98619088-44ab6000-22e1-11eb-8f6d-5532e68ab274.png)\n",
    "\n",
    "To illustrate the HTTP protocol itself, this lesson will not use higher-level wrapper like `requests` or the standard library `urllib`.  Here we use the `telnetlib` module, which very closely matches how you might use the command-line `telnet` command.\n",
    "\n",
    "In principle, we could also use the still-lower level `sockets` module to make the connection, or the `ssl` module for an encrypted socket, and send bytes over it.  What we wish to do is send certain requests to a server at a given hostname and port, and examine what the raw content the server returns as a response."
   ]
  },
  {
   "cell_type": "code",
   "execution_count": 1,
   "metadata": {},
   "outputs": [],
   "source": [
    "from sys import stderr\n",
    "from telnetlib import Telnet\n",
    "from time import sleep\n",
    "eot = '⌁'.encode()    # end-of-transmission character\n",
    "host = 'popbox.kdm.local'\n",
    "port = 2501\n",
    "\n",
    "def connection(reqs: list, host: str=host, port: int=port, raw=False):\n",
    "    # telnet popbox.kdm.local 2501\n",
    "    with Telnet(host, port) as conn:\n",
    "        conn.interact()\n",
    "        for request in reqs:\n",
    "            conn.write(request)\n",
    "            resp = conn.read_until(eot, 0.01)\n",
    "            print(resp.decode() if not raw else resp)"
   ]
  },
  {
   "cell_type": "markdown",
   "metadata": {},
   "source": [
    "Let's try sending a particular message to a running server.  The first line is the request line, and has a method (such as `GET`) followed by a resource name then a protocol version.  The next lines are each some header field, followed by a colon and space, followed by a value.  Many of these headers are standard or semi-standard, others begin with `X-` to indicate they serve a custom purpose.  \n",
    "\n",
    "The IANA has a list of [Permanent Message Header Field Names](https://www.iana.org/assignments/message-headers/message-headers.xml#perm-headers) with several hundred widely used headers.  All are optional, but several are nearly ubiquitous in actual HTTP use."
   ]
  },
  {
   "cell_type": "code",
   "execution_count": 2,
   "metadata": {},
   "outputs": [
    {
     "name": "stdout",
     "output_type": "stream",
     "text": [
      "HTTP/1.1 200 OK\n",
      "Content-Type: text/html; charset=utf-8\n",
      "Content-Length: 110\n",
      "X-INE-Course: HTTP with Python\n",
      "Server: Werkzeug/2.0.0 Python/3.8.10\n",
      "Date: Tue, 08 Jun 2021 00:46:47 GMT\n",
      "\n",
      "<html>\n",
      "  <head>\n",
      "    <title>Test Page</title>\n",
      "  </head>\n",
      "  <body>\n",
      "    <p>Hello David!</p>\n",
      "  </body>\n",
      "</html>\n",
      "    \n"
     ]
    }
   ],
   "source": [
    "req = (\n",
    "    b'GET /greeting HTTP/1.1\\r\\n'\n",
    "    b'Accept-Encoding: identity\\r\\n'\n",
    "    b'Accept-Charset: utf-8\\r\\n'\n",
    "    b'Host: popbox.kdm.local\\r\\n'\n",
    "    b'User-Agent: telnet (INE course)\\r\\n'\n",
    "    b'X-INE-Student: David\\r\\n'\n",
    "    b'\\r\\n')\n",
    "connection([req])"
   ]
  },
  {
   "cell_type": "markdown",
   "metadata": {},
   "source": [
    "The first message was particularly pedantically correct.  In particular, while CRLF is strictly required, essentially every HTTP server of the last 25 years will gracefully handle use of LF alone.  This follows Postel's Law (Robustness Principle): \n",
    "\n",
    "> Be conservative in what you send, be liberal in what you accept"
   ]
  },
  {
   "cell_type": "code",
   "execution_count": 3,
   "metadata": {},
   "outputs": [
    {
     "name": "stdout",
     "output_type": "stream",
     "text": [
      "b'HTTP/1.1 200 OK\\r\\nContent-Type: text/html; charset=utf-8\\r\\nContent-Length: 116\\r\\nX-INE-Course: HTTP with Python\\r\\nServer: Werkzeug/2.0.0 Python/3.8.10\\r\\nDate: Tue, 08 Jun 2021 00:50:45 GMT\\r\\n\\r\\n<html>\\n  <head>\\n    <title>Test Page</title>\\n  </head>\\n  <body>\\n    <p>N\\xc7\\x90n h\\xc7\\x8eo Student!</p>\\n  </body>\\n</html>\\n    '\n"
     ]
    }
   ],
   "source": [
    "req = b'''GET /greeting?lang=zh HTTP/1.0\n",
    "\n",
    "'''\n",
    "connection([req], raw=True)"
   ]
  },
  {
   "cell_type": "markdown",
   "metadata": {},
   "source": [
    "That response is a bit harder to read as unencoded bytes, let's present it as text."
   ]
  },
  {
   "cell_type": "code",
   "execution_count": 4,
   "metadata": {},
   "outputs": [
    {
     "name": "stdout",
     "output_type": "stream",
     "text": [
      "HTTP/1.1 200 OK\n",
      "Content-Type: text/html; charset=utf-8\n",
      "Content-Length: 116\n",
      "X-INE-Course: HTTP with Python\n",
      "Server: Werkzeug/2.0.0 Python/3.8.10\n",
      "Date: Tue, 08 Jun 2021 00:52:38 GMT\n",
      "\n",
      "<html>\n",
      "  <head>\n",
      "    <title>Test Page</title>\n",
      "  </head>\n",
      "  <body>\n",
      "    <p>Nǐn hǎo Student!</p>\n",
      "  </body>\n",
      "</html>\n",
      "    \n"
     ]
    }
   ],
   "source": [
    "req = b'''GET /greeting?lang=zh HTTP/1.0\n",
    "\n",
    "'''\n",
    "connection([req])"
   ]
  },
  {
   "cell_type": "markdown",
   "metadata": {},
   "source": [
    "## Connection life and HTTP versions\n",
    "![orange-divider](https://user-images.githubusercontent.com/7065401/98619088-44ab6000-22e1-11eb-8f6d-5532e68ab274.png)\n",
    "\n",
    "HTTP is versioned, as we can see in request lines and status lines of corresponding client and server headers.  Version 0.9 was a retroactively numbered earlier version that was, as the number suggests, a \"beta version.\"  You are unlikely to encounter HTTP/0.9 servers in the wild.  One notable aspect of this very old version is that it has only a body and no header:"
   ]
  },
  {
   "cell_type": "code",
   "execution_count": 5,
   "metadata": {},
   "outputs": [
    {
     "name": "stdout",
     "output_type": "stream",
     "text": [
      "<html>\n",
      "  <head>\n",
      "    <title>Test Page</title>\n",
      "  </head>\n",
      "  <body>\n",
      "    <p>Hello Student!</p>\n",
      "  </body>\n",
      "</html>\n",
      "    \n"
     ]
    }
   ],
   "source": [
    "connection([b'GET /greeting HTTP/0.9\\n\\n'])"
   ]
  },
  {
   "cell_type": "markdown",
   "metadata": {},
   "source": [
    "HTTP/1.0 has most of the semantics of later HTTP versions.  One notable change, however, between HTTP/1.0 and HTTP/1.1 is that in the earlier version, every connection consisted of a single request/response pair, and the connection was closed after those two messages.\n",
    "\n",
    "HTTP/1.1 adds a mechanism for persistent connections.  This doesn't really change anything in the HTTP protocol itself, but the underlying TCP/IP sockets take overhead to establish; allowing multiple request/response pairs in the same session is often considerably faster.\n",
    "\n",
    "Whether or not HTTP/1.1 (and higher) use persistent connections is controlled by the `Connection` header.  Nearly all servers default to `keep-alive` if not otherwise specified.  We can see this by passing several requests within one connection."
   ]
  },
  {
   "cell_type": "code",
   "execution_count": 6,
   "metadata": {},
   "outputs": [
    {
     "name": "stdout",
     "output_type": "stream",
     "text": [
      "HTTP/1.1 200 OK\n",
      "Content-Type: text/html; charset=utf-8\n",
      "Content-Length: 112\n",
      "X-INE-Course: HTTP with Python\n",
      "Server: Werkzeug/2.0.0 Python/3.8.10\n",
      "Date: Tue, 08 Jun 2021 02:22:19 GMT\n",
      "\n",
      "<html>\n",
      "  <head>\n",
      "    <title>Test Page</title>\n",
      "  </head>\n",
      "  <body>\n",
      "    <p>Hello Student!</p>\n",
      "  </body>\n",
      "</html>\n",
      "    \n",
      "HTTP/1.1 200 OK\n",
      "Content-Type: text/html; charset=utf-8\n",
      "Content-Length: 114\n",
      "X-INE-Course: HTTP with Python\n",
      "Server: Werkzeug/2.0.0 Python/3.8.10\n",
      "Date: Tue, 08 Jun 2021 02:22:19 GMT\n",
      "\n",
      "<html>\n",
      "  <head>\n",
      "    <title>Test Page</title>\n",
      "  </head>\n",
      "  <body>\n",
      "    <p>Bonjour Student!</p>\n",
      "  </body>\n",
      "</html>\n",
      "    \n"
     ]
    },
    {
     "name": "stderr",
     "output_type": "stream",
     "text": [
      "EOFError('telnet connection closed')\n"
     ]
    }
   ],
   "source": [
    "req1 = b'''GET /greeting HTTP/1.1\n",
    "Connection: keep-alive\n",
    "\n",
    "'''\n",
    "req2 = b'''GET /greeting?lang=fr HTTP/1.1\n",
    "Connection: close\n",
    "\n",
    "'''\n",
    "req3 = b'''GET /greeting?lang=en HTTP/1.1\n",
    "\n",
    "'''\n",
    "try:\n",
    "    connection([req1, req2, req3])\n",
    "except Exception as err:\n",
    "    print(repr(err), file=stderr)"
   ]
  },
  {
   "cell_type": "markdown",
   "metadata": {},
   "source": [
    "## Streams and chunks\n",
    "![orange-divider](https://user-images.githubusercontent.com/7065401/98619088-44ab6000-22e1-11eb-8f6d-5532e68ab274.png)\n",
    "\n",
    "HTTP/2 has built on HTTP/1.1 in a backwards compatible way, since 2015.  Most popular websites and all popular web browsers support HTTP/2.  HTTP/3 is a proposed successor to HTTP/2 that builds on many of the same optimizations.\n",
    "\n",
    "In large part, HTTP/2 takes ideas developed as SPDY by Google.  The main advantage of HTTP/2 over the HTTP/1.1 \"chunked transfer encoding\" is that HTTP/2 supports multiple \"streams\" within a connection, each \"DATA frame\" tagged by an integer.  HTTP/2 *does not* support chunked transfer encoding.\n",
    "\n",
    "One principle use of HTTP/2 streams is to allow a server to push to a client cache resources it anticipates the client will want, before the client actually requests it."
   ]
  },
  {
   "cell_type": "markdown",
   "metadata": {},
   "source": [
    "For example, imagine this HTML web page that might be retrieved over HTTP:\n",
    "\n",
    "```html\n",
    "<html>\n",
    "  <head>\n",
    "    <title>A large page with other resources</title>\n",
    "    <script src=\"http//example.com/large_script.js\"></script>\n",
    "    <link rel=\"stylesheet\" href=\"http://example.com/many_styles.css\">\n",
    "  </head>\n",
    "  <body>\n",
    "    <img src=\"http://example.com/big_img1.png\"/>\n",
    "    <img src=\"http://example.com/big_img2.png\"/>\n",
    "    <!-- ... much more HTML content ... -->\n",
    "    <img src=\"http://example.com/big_img98.png\"/>\n",
    "    <img src=\"http://example.com/big_img99.png\"/>\n",
    "    <script src=\"http//example.com/other_script.js\"></script>\n",
    "  </body>\n",
    "</html>    \n",
    "```"
   ]
  },
  {
   "cell_type": "markdown",
   "metadata": {},
   "source": [
    "Under HTTP/1.1, a client such as a web browser would need to read this entire page before it would see that `other_script.js` might be used to manipulate the page. Moreover, the entire page would likewise need to be read before the client was aware of the related resources `big_img98.png` and `big_img99.png` whose presence might affect the overall layout of the rendered page.  \n",
    "\n",
    "Even if the client realizes after a few bytes that it will need `large_script.js` and `many_styles.css`, under HTTP/1.1 the client would need to launch a new connection to obtain these resources before the first HTML page request completed.\n",
    "\n",
    "If both ends of the communication agree to HTTP/2, the server can start a stream for these anticipated resource needs before the client realizes it will need them.  Moreover, HTTP/2 streams, including their headers, are both binary and compressed to minimize size."
   ]
  },
  {
   "cell_type": "markdown",
   "metadata": {},
   "source": [
    "Unfortunately, being a binary protocol that is very difficult to read and create manually in a manner similar to the above examples.  Moreover, the popular Python `requests` library that is discussed in this course does not support HTTP/2 currently.  HTTP/2 support in `requests` is planned, and the newer modules `Hyper` and `HTTPX` support HTTP/2, but are not themselves widely adopted."
   ]
  },
  {
   "cell_type": "markdown",
   "metadata": {},
   "source": [
    "---\n",
    "### Reading streams\n",
    "\n",
    "Because of limited library support and its binary format, we will not look in more detail at HTTP/2 streamed content.  This is also not an example of `Transfer-Encoding: chunked` which is deprecated in HTTP/2.  \n",
    "\n",
    "However, let us look at responses that may simply arrive slowly, but still benefit from incremental processing as body content arrives.  A more real-world example might incrementally process CSV records or JSON lines objects."
   ]
  },
  {
   "cell_type": "code",
   "execution_count": 7,
   "metadata": {},
   "outputs": [],
   "source": [
    "def stream_conn(request: str, host: str=host, port: int=port):\n",
    "    with Telnet(host, port) as conn:\n",
    "        conn.interact()\n",
    "        conn.write(request)\n",
    "        while True:\n",
    "            resp = conn.read_until(eot, 0.1)\n",
    "            if b'\\r\\n\\r\\n' in resp:\n",
    "                header, resp = resp.split(b'\\r\\n\\r\\n')\n",
    "                print(header.decode(), end='\\n\\n')\n",
    "            if eot in resp:\n",
    "                break\n",
    "            elif resp:\n",
    "                greet = resp.decode()\n",
    "                print(f'{greet} [{len(greet)} characters]')"
   ]
  },
  {
   "cell_type": "code",
   "execution_count": 8,
   "metadata": {},
   "outputs": [
    {
     "name": "stdout",
     "output_type": "stream",
     "text": [
      "HTTP/1.1 200 OK\n",
      "Content-Type: text/html; charset=utf-8\n",
      "Connection: close\n",
      "Server: Werkzeug/2.0.0 Python/3.8.10\n",
      "Date: Tue, 08 Jun 2021 02:43:26 GMT\n",
      "\n",
      "Hello [5 characters]\n",
      "Nǐn hǎo [7 characters]\n",
      "Bonjour [7 characters]\n",
      "Hola [4 characters]\n",
      "Zdravstvuyte [12 characters]\n"
     ]
    }
   ],
   "source": [
    "req = b'''GET /stream HTTP/1.1\n",
    "Connection: keep-alive\n",
    "\n",
    "'''\n",
    "stream_conn(req)"
   ]
  },
  {
   "cell_type": "markdown",
   "metadata": {},
   "source": [
    "## Wrapping up\n",
    "![orange-divider](https://user-images.githubusercontent.com/7065401/98619088-44ab6000-22e1-11eb-8f6d-5532e68ab274.png)\n",
    "\n",
    "This section has presented the basics of HTTP as a protocol.  In the next sections and lessons, we turn to Python libraries for making HTTP requests to servers from clients, and to creating HTTP servers for clients to utilize.  \n",
    "\n",
    "In the course of talking about those libararies, we will address topics such as status codes and content types in more detail."
   ]
  }
 ],
 "metadata": {
  "kernelspec": {
   "display_name": "Python 3",
   "language": "python",
   "name": "python3"
  },
  "language_info": {
   "codemirror_mode": {
    "name": "ipython",
    "version": 3
   },
   "file_extension": ".py",
   "mimetype": "text/x-python",
   "name": "python",
   "nbconvert_exporter": "python",
   "pygments_lexer": "ipython3",
   "version": "3.8.6"
  }
 },
 "nbformat": 4,
 "nbformat_minor": 5
}
